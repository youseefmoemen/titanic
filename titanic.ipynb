{
 "cells": [
  {
   "cell_type": "code",
   "execution_count": 1,
   "id": "51efde49",
   "metadata": {
    "_cell_guid": "b1076dfc-b9ad-4769-8c92-a6c4dae69d19",
    "_uuid": "8f2839f25d086af736a60e9eeb907d3b93b6e0e5",
    "execution": {
     "iopub.execute_input": "2021-10-23T18:52:37.235366Z",
     "iopub.status.busy": "2021-10-23T18:52:37.234679Z",
     "iopub.status.idle": "2021-10-23T18:52:37.244597Z",
     "shell.execute_reply": "2021-10-23T18:52:37.245309Z",
     "shell.execute_reply.started": "2021-10-23T18:38:47.488285Z"
    },
    "papermill": {
     "duration": 0.061941,
     "end_time": "2021-10-23T18:52:37.245688",
     "exception": false,
     "start_time": "2021-10-23T18:52:37.183747",
     "status": "completed"
    },
    "tags": []
   },
   "outputs": [
    {
     "name": "stdout",
     "output_type": "stream",
     "text": [
      "/kaggle/input/titanic/train.csv\n",
      "/kaggle/input/titanic/test.csv\n",
      "/kaggle/input/titanic/gender_submission.csv\n"
     ]
    }
   ],
   "source": [
    "# This Python 3 environment comes with many helpful analytics libraries installed\n",
    "# It is defined by the kaggle/python Docker image: https://github.com/kaggle/docker-python\n",
    "# For example, here's several helpful packages to load\n",
    "\n",
    "import numpy as np # linear algebra\n",
    "import pandas as pd # data processing, CSV file I/O (e.g. pd.read_csv)\n",
    "\n",
    "# Input data files are available in the read-only \"../input/\" directory\n",
    "# For example, running this (by clicking run or pressing Shift+Enter) will list all files under the input directory\n",
    "\n",
    "import os\n",
    "for dirname, _, filenames in os.walk('/kaggle/input'):\n",
    "    for filename in filenames:\n",
    "        print(os.path.join(dirname, filename))\n",
    "\n",
    "# You can write up to 20GB to the current directory (/kaggle/working/) that gets preserved as output when you create a version using \"Save & Run All\" \n",
    "# You can also write temporary files to /kaggle/temp/, but they won't be saved outside of the current session"
   ]
  },
  {
   "cell_type": "code",
   "execution_count": 2,
   "id": "6295526e",
   "metadata": {
    "execution": {
     "iopub.execute_input": "2021-10-23T18:52:37.330999Z",
     "iopub.status.busy": "2021-10-23T18:52:37.330238Z",
     "iopub.status.idle": "2021-10-23T18:52:37.352452Z",
     "shell.execute_reply": "2021-10-23T18:52:37.351812Z",
     "shell.execute_reply.started": "2021-10-23T18:38:47.572973Z"
    },
    "papermill": {
     "duration": 0.064717,
     "end_time": "2021-10-23T18:52:37.352595",
     "exception": false,
     "start_time": "2021-10-23T18:52:37.287878",
     "status": "completed"
    },
    "tags": []
   },
   "outputs": [],
   "source": [
    "df = pd.read_csv('/kaggle/input/titanic/train.csv')"
   ]
  },
  {
   "cell_type": "code",
   "execution_count": 3,
   "id": "e1fdf0b0",
   "metadata": {
    "execution": {
     "iopub.execute_input": "2021-10-23T18:52:37.440497Z",
     "iopub.status.busy": "2021-10-23T18:52:37.439789Z",
     "iopub.status.idle": "2021-10-23T18:52:37.457731Z",
     "shell.execute_reply": "2021-10-23T18:52:37.458222Z",
     "shell.execute_reply.started": "2021-10-23T18:38:48.457042Z"
    },
    "papermill": {
     "duration": 0.065934,
     "end_time": "2021-10-23T18:52:37.458406",
     "exception": false,
     "start_time": "2021-10-23T18:52:37.392472",
     "status": "completed"
    },
    "tags": []
   },
   "outputs": [
    {
     "data": {
      "text/html": [
       "<div>\n",
       "<style scoped>\n",
       "    .dataframe tbody tr th:only-of-type {\n",
       "        vertical-align: middle;\n",
       "    }\n",
       "\n",
       "    .dataframe tbody tr th {\n",
       "        vertical-align: top;\n",
       "    }\n",
       "\n",
       "    .dataframe thead th {\n",
       "        text-align: right;\n",
       "    }\n",
       "</style>\n",
       "<table border=\"1\" class=\"dataframe\">\n",
       "  <thead>\n",
       "    <tr style=\"text-align: right;\">\n",
       "      <th></th>\n",
       "      <th>PassengerId</th>\n",
       "      <th>Survived</th>\n",
       "      <th>Pclass</th>\n",
       "      <th>Name</th>\n",
       "      <th>Sex</th>\n",
       "      <th>Age</th>\n",
       "      <th>SibSp</th>\n",
       "      <th>Parch</th>\n",
       "      <th>Ticket</th>\n",
       "      <th>Fare</th>\n",
       "      <th>Cabin</th>\n",
       "      <th>Embarked</th>\n",
       "    </tr>\n",
       "  </thead>\n",
       "  <tbody>\n",
       "    <tr>\n",
       "      <th>0</th>\n",
       "      <td>1</td>\n",
       "      <td>0</td>\n",
       "      <td>3</td>\n",
       "      <td>Braund, Mr. Owen Harris</td>\n",
       "      <td>male</td>\n",
       "      <td>22.0</td>\n",
       "      <td>1</td>\n",
       "      <td>0</td>\n",
       "      <td>A/5 21171</td>\n",
       "      <td>7.2500</td>\n",
       "      <td>NaN</td>\n",
       "      <td>S</td>\n",
       "    </tr>\n",
       "    <tr>\n",
       "      <th>1</th>\n",
       "      <td>2</td>\n",
       "      <td>1</td>\n",
       "      <td>1</td>\n",
       "      <td>Cumings, Mrs. John Bradley (Florence Briggs Th...</td>\n",
       "      <td>female</td>\n",
       "      <td>38.0</td>\n",
       "      <td>1</td>\n",
       "      <td>0</td>\n",
       "      <td>PC 17599</td>\n",
       "      <td>71.2833</td>\n",
       "      <td>C85</td>\n",
       "      <td>C</td>\n",
       "    </tr>\n",
       "    <tr>\n",
       "      <th>2</th>\n",
       "      <td>3</td>\n",
       "      <td>1</td>\n",
       "      <td>3</td>\n",
       "      <td>Heikkinen, Miss. Laina</td>\n",
       "      <td>female</td>\n",
       "      <td>26.0</td>\n",
       "      <td>0</td>\n",
       "      <td>0</td>\n",
       "      <td>STON/O2. 3101282</td>\n",
       "      <td>7.9250</td>\n",
       "      <td>NaN</td>\n",
       "      <td>S</td>\n",
       "    </tr>\n",
       "    <tr>\n",
       "      <th>3</th>\n",
       "      <td>4</td>\n",
       "      <td>1</td>\n",
       "      <td>1</td>\n",
       "      <td>Futrelle, Mrs. Jacques Heath (Lily May Peel)</td>\n",
       "      <td>female</td>\n",
       "      <td>35.0</td>\n",
       "      <td>1</td>\n",
       "      <td>0</td>\n",
       "      <td>113803</td>\n",
       "      <td>53.1000</td>\n",
       "      <td>C123</td>\n",
       "      <td>S</td>\n",
       "    </tr>\n",
       "    <tr>\n",
       "      <th>4</th>\n",
       "      <td>5</td>\n",
       "      <td>0</td>\n",
       "      <td>3</td>\n",
       "      <td>Allen, Mr. William Henry</td>\n",
       "      <td>male</td>\n",
       "      <td>35.0</td>\n",
       "      <td>0</td>\n",
       "      <td>0</td>\n",
       "      <td>373450</td>\n",
       "      <td>8.0500</td>\n",
       "      <td>NaN</td>\n",
       "      <td>S</td>\n",
       "    </tr>\n",
       "  </tbody>\n",
       "</table>\n",
       "</div>"
      ],
      "text/plain": [
       "   PassengerId  Survived  Pclass  \\\n",
       "0            1         0       3   \n",
       "1            2         1       1   \n",
       "2            3         1       3   \n",
       "3            4         1       1   \n",
       "4            5         0       3   \n",
       "\n",
       "                                                Name     Sex   Age  SibSp  \\\n",
       "0                            Braund, Mr. Owen Harris    male  22.0      1   \n",
       "1  Cumings, Mrs. John Bradley (Florence Briggs Th...  female  38.0      1   \n",
       "2                             Heikkinen, Miss. Laina  female  26.0      0   \n",
       "3       Futrelle, Mrs. Jacques Heath (Lily May Peel)  female  35.0      1   \n",
       "4                           Allen, Mr. William Henry    male  35.0      0   \n",
       "\n",
       "   Parch            Ticket     Fare Cabin Embarked  \n",
       "0      0         A/5 21171   7.2500   NaN        S  \n",
       "1      0          PC 17599  71.2833   C85        C  \n",
       "2      0  STON/O2. 3101282   7.9250   NaN        S  \n",
       "3      0            113803  53.1000  C123        S  \n",
       "4      0            373450   8.0500   NaN        S  "
      ]
     },
     "execution_count": 3,
     "metadata": {},
     "output_type": "execute_result"
    }
   ],
   "source": [
    "df.head()"
   ]
  },
  {
   "cell_type": "code",
   "execution_count": 4,
   "id": "b180d8be",
   "metadata": {
    "execution": {
     "iopub.execute_input": "2021-10-23T18:52:37.543833Z",
     "iopub.status.busy": "2021-10-23T18:52:37.542806Z",
     "iopub.status.idle": "2021-10-23T18:52:37.549357Z",
     "shell.execute_reply": "2021-10-23T18:52:37.548699Z",
     "shell.execute_reply.started": "2021-10-23T18:38:48.865303Z"
    },
    "papermill": {
     "duration": 0.050931,
     "end_time": "2021-10-23T18:52:37.549496",
     "exception": false,
     "start_time": "2021-10-23T18:52:37.498565",
     "status": "completed"
    },
    "tags": []
   },
   "outputs": [
    {
     "data": {
      "text/plain": [
       "(891, 12)"
      ]
     },
     "execution_count": 4,
     "metadata": {},
     "output_type": "execute_result"
    }
   ],
   "source": [
    "df.shape"
   ]
  },
  {
   "cell_type": "code",
   "execution_count": 5,
   "id": "7891d894",
   "metadata": {
    "execution": {
     "iopub.execute_input": "2021-10-23T18:52:37.654694Z",
     "iopub.status.busy": "2021-10-23T18:52:37.653893Z",
     "iopub.status.idle": "2021-10-23T18:52:37.657458Z",
     "shell.execute_reply": "2021-10-23T18:52:37.658115Z",
     "shell.execute_reply.started": "2021-10-23T18:38:49.517303Z"
    },
    "papermill": {
     "duration": 0.067668,
     "end_time": "2021-10-23T18:52:37.658359",
     "exception": false,
     "start_time": "2021-10-23T18:52:37.590691",
     "status": "completed"
    },
    "tags": []
   },
   "outputs": [
    {
     "name": "stdout",
     "output_type": "stream",
     "text": [
      "<class 'pandas.core.frame.DataFrame'>\n",
      "RangeIndex: 891 entries, 0 to 890\n",
      "Data columns (total 12 columns):\n",
      " #   Column       Non-Null Count  Dtype  \n",
      "---  ------       --------------  -----  \n",
      " 0   PassengerId  891 non-null    int64  \n",
      " 1   Survived     891 non-null    int64  \n",
      " 2   Pclass       891 non-null    int64  \n",
      " 3   Name         891 non-null    object \n",
      " 4   Sex          891 non-null    object \n",
      " 5   Age          714 non-null    float64\n",
      " 6   SibSp        891 non-null    int64  \n",
      " 7   Parch        891 non-null    int64  \n",
      " 8   Ticket       891 non-null    object \n",
      " 9   Fare         891 non-null    float64\n",
      " 10  Cabin        204 non-null    object \n",
      " 11  Embarked     889 non-null    object \n",
      "dtypes: float64(2), int64(5), object(5)\n",
      "memory usage: 83.7+ KB\n"
     ]
    }
   ],
   "source": [
    "df.info()"
   ]
  },
  {
   "cell_type": "code",
   "execution_count": 6,
   "id": "acd9661a",
   "metadata": {
    "execution": {
     "iopub.execute_input": "2021-10-23T18:52:37.744857Z",
     "iopub.status.busy": "2021-10-23T18:52:37.744185Z",
     "iopub.status.idle": "2021-10-23T18:52:39.101235Z",
     "shell.execute_reply": "2021-10-23T18:52:39.100733Z",
     "shell.execute_reply.started": "2021-10-23T18:38:49.978443Z"
    },
    "papermill": {
     "duration": 1.400762,
     "end_time": "2021-10-23T18:52:39.101397",
     "exception": false,
     "start_time": "2021-10-23T18:52:37.700635",
     "status": "completed"
    },
    "tags": []
   },
   "outputs": [
    {
     "data": {
      "image/png": "[encoded data removed]",
      "text/plain": [
       "<Figure size 1440x1440 with 9 Axes>"
      ]
     },
     "metadata": {
      "needs_background": "light"
     },
     "output_type": "display_data"
    },
    {
     "data": {
      "text/plain": [
       "(None,)"
      ]
     },
     "execution_count": 6,
     "metadata": {},
     "output_type": "execute_result"
    }
   ],
   "source": [
    "%matplotlib inline\n",
    "import matplotlib.pyplot as plt\n",
    "df.hist(figsize=(20, 20))\n",
    "plt.show(), "
   ]
  },
  {
   "cell_type": "code",
   "execution_count": 7,
   "id": "ad7d20b9",
   "metadata": {
    "execution": {
     "iopub.execute_input": "2021-10-23T18:52:39.253693Z",
     "iopub.status.busy": "2021-10-23T18:52:39.252990Z",
     "iopub.status.idle": "2021-10-23T18:52:39.279928Z",
     "shell.execute_reply": "2021-10-23T18:52:39.280551Z",
     "shell.execute_reply.started": "2021-10-23T18:38:51.308427Z"
    },
    "papermill": {
     "duration": 0.136929,
     "end_time": "2021-10-23T18:52:39.280720",
     "exception": false,
     "start_time": "2021-10-23T18:52:39.143791",
     "status": "completed"
    },
    "tags": []
   },
   "outputs": [
    {
     "data": {
      "text/html": [
       "<div>\n",
       "<style scoped>\n",
       "    .dataframe tbody tr th:only-of-type {\n",
       "        vertical-align: middle;\n",
       "    }\n",
       "\n",
       "    .dataframe tbody tr th {\n",
       "        vertical-align: top;\n",
       "    }\n",
       "\n",
       "    .dataframe thead th {\n",
       "        text-align: right;\n",
       "    }\n",
       "</style>\n",
       "<table border=\"1\" class=\"dataframe\">\n",
       "  <thead>\n",
       "    <tr style=\"text-align: right;\">\n",
       "      <th></th>\n",
       "      <th>PassengerId</th>\n",
       "      <th>Survived</th>\n",
       "      <th>Pclass</th>\n",
       "      <th>Age</th>\n",
       "      <th>SibSp</th>\n",
       "      <th>Parch</th>\n",
       "      <th>Fare</th>\n",
       "    </tr>\n",
       "  </thead>\n",
       "  <tbody>\n",
       "    <tr>\n",
       "      <th>count</th>\n",
       "      <td>891.000000</td>\n",
       "      <td>891.000000</td>\n",
       "      <td>891.000000</td>\n",
       "      <td>714.000000</td>\n",
       "      <td>891.000000</td>\n",
       "      <td>891.000000</td>\n",
       "      <td>891.000000</td>\n",
       "    </tr>\n",
       "    <tr>\n",
       "      <th>mean</th>\n",
       "      <td>446.000000</td>\n",
       "      <td>0.383838</td>\n",
       "      <td>2.308642</td>\n",
       "      <td>29.699118</td>\n",
       "      <td>0.523008</td>\n",
       "      <td>0.381594</td>\n",
       "      <td>32.204208</td>\n",
       "    </tr>\n",
       "    <tr>\n",
       "      <th>std</th>\n",
       "      <td>257.353842</td>\n",
       "      <td>0.486592</td>\n",
       "      <td>0.836071</td>\n",
       "      <td>14.526497</td>\n",
       "      <td>1.102743</td>\n",
       "      <td>0.806057</td>\n",
       "      <td>49.693429</td>\n",
       "    </tr>\n",
       "    <tr>\n",
       "      <th>min</th>\n",
       "      <td>1.000000</td>\n",
       "      <td>0.000000</td>\n",
       "      <td>1.000000</td>\n",
       "      <td>0.420000</td>\n",
       "      <td>0.000000</td>\n",
       "      <td>0.000000</td>\n",
       "      <td>0.000000</td>\n",
       "    </tr>\n",
       "    <tr>\n",
       "      <th>25%</th>\n",
       "      <td>223.500000</td>\n",
       "      <td>0.000000</td>\n",
       "      <td>2.000000</td>\n",
       "      <td>20.125000</td>\n",
       "      <td>0.000000</td>\n",
       "      <td>0.000000</td>\n",
       "      <td>7.910400</td>\n",
       "    </tr>\n",
       "    <tr>\n",
       "      <th>50%</th>\n",
       "      <td>446.000000</td>\n",
       "      <td>0.000000</td>\n",
       "      <td>3.000000</td>\n",
       "      <td>28.000000</td>\n",
       "      <td>0.000000</td>\n",
       "      <td>0.000000</td>\n",
       "      <td>14.454200</td>\n",
       "    </tr>\n",
       "    <tr>\n",
       "      <th>75%</th>\n",
       "      <td>668.500000</td>\n",
       "      <td>1.000000</td>\n",
       "      <td>3.000000</td>\n",
       "      <td>38.000000</td>\n",
       "      <td>1.000000</td>\n",
       "      <td>0.000000</td>\n",
       "      <td>31.000000</td>\n",
       "    </tr>\n",
       "    <tr>\n",
       "      <th>max</th>\n",
       "      <td>891.000000</td>\n",
       "      <td>1.000000</td>\n",
       "      <td>3.000000</td>\n",
       "      <td>80.000000</td>\n",
       "      <td>8.000000</td>\n",
       "      <td>6.000000</td>\n",
       "      <td>512.329200</td>\n",
       "    </tr>\n",
       "  </tbody>\n",
       "</table>\n",
       "</div>"
      ],
      "text/plain": [
       "       PassengerId    Survived      Pclass         Age       SibSp  \\\n",
       "count   891.000000  891.000000  891.000000  714.000000  891.000000   \n",
       "mean    446.000000    0.383838    2.308642   29.699118    0.523008   \n",
       "std     257.353842    0.486592    0.836071   14.526497    1.102743   \n",
       "min       1.000000    0.000000    1.000000    0.420000    0.000000   \n",
       "25%     223.500000    0.000000    2.000000   20.125000    0.000000   \n",
       "50%     446.000000    0.000000    3.000000   28.000000    0.000000   \n",
       "75%     668.500000    1.000000    3.000000   38.000000    1.000000   \n",
       "max     891.000000    1.000000    3.000000   80.000000    8.000000   \n",
       "\n",
       "            Parch        Fare  \n",
       "count  891.000000  891.000000  \n",
       "mean     0.381594   32.204208  \n",
       "std      0.806057   49.693429  \n",
       "min      0.000000    0.000000  \n",
       "25%      0.000000    7.910400  \n",
       "50%      0.000000   14.454200  \n",
       "75%      0.000000   31.000000  \n",
       "max      6.000000  512.329200  "
      ]
     },
     "execution_count": 7,
     "metadata": {},
     "output_type": "execute_result"
    }
   ],
   "source": [
    "df.describe()"
   ]
  },
  {
   "cell_type": "code",
   "execution_count": 8,
   "id": "85c29b84",
   "metadata": {
    "execution": {
     "iopub.execute_input": "2021-10-23T18:52:39.371295Z",
     "iopub.status.busy": "2021-10-23T18:52:39.370634Z",
     "iopub.status.idle": "2021-10-23T18:52:40.616414Z",
     "shell.execute_reply": "2021-10-23T18:52:40.615792Z",
     "shell.execute_reply.started": "2021-10-23T18:38:51.341188Z"
    },
    "papermill": {
     "duration": 1.291919,
     "end_time": "2021-10-23T18:52:40.616576",
     "exception": false,
     "start_time": "2021-10-23T18:52:39.324657",
     "status": "completed"
    },
    "tags": []
   },
   "outputs": [],
   "source": [
    "from sklearn.impute import SimpleImputer\n",
    "from sklearn.pipeline import Pipeline\n"
   ]
  },
  {
   "cell_type": "code",
   "execution_count": 9,
   "id": "173877f2",
   "metadata": {
    "execution": {
     "iopub.execute_input": "2021-10-23T18:52:40.709607Z",
     "iopub.status.busy": "2021-10-23T18:52:40.708884Z",
     "iopub.status.idle": "2021-10-23T18:52:40.710456Z",
     "shell.execute_reply": "2021-10-23T18:52:40.710909Z",
     "shell.execute_reply.started": "2021-10-23T18:38:52.384930Z"
    },
    "papermill": {
     "duration": 0.05067,
     "end_time": "2021-10-23T18:52:40.711080",
     "exception": false,
     "start_time": "2021-10-23T18:52:40.660410",
     "status": "completed"
    },
    "tags": []
   },
   "outputs": [],
   "source": [
    "pipeline_num = Pipeline([\n",
    "    ('Imputer', SimpleImputer(strategy = 'median')), \n",
    "])"
   ]
  },
  {
   "cell_type": "code",
   "execution_count": 10,
   "id": "e88f9f20",
   "metadata": {
    "execution": {
     "iopub.execute_input": "2021-10-23T18:52:40.803291Z",
     "iopub.status.busy": "2021-10-23T18:52:40.802616Z",
     "iopub.status.idle": "2021-10-23T18:52:40.805023Z",
     "shell.execute_reply": "2021-10-23T18:52:40.805500Z",
     "shell.execute_reply.started": "2021-10-23T18:38:53.504889Z"
    },
    "papermill": {
     "duration": 0.050925,
     "end_time": "2021-10-23T18:52:40.805678",
     "exception": false,
     "start_time": "2021-10-23T18:52:40.754753",
     "status": "completed"
    },
    "tags": []
   },
   "outputs": [],
   "source": [
    "#float64(2), int64(5), object(5)"
   ]
  },
  {
   "cell_type": "code",
   "execution_count": 11,
   "id": "a0d3d3f9",
   "metadata": {
    "execution": {
     "iopub.execute_input": "2021-10-23T18:52:40.896828Z",
     "iopub.status.busy": "2021-10-23T18:52:40.895001Z",
     "iopub.status.idle": "2021-10-23T18:52:40.902084Z",
     "shell.execute_reply": "2021-10-23T18:52:40.902605Z",
     "shell.execute_reply.started": "2021-10-23T18:38:53.967837Z"
    },
    "papermill": {
     "duration": 0.053631,
     "end_time": "2021-10-23T18:52:40.902772",
     "exception": false,
     "start_time": "2021-10-23T18:52:40.849141",
     "status": "completed"
    },
    "tags": []
   },
   "outputs": [
    {
     "data": {
      "text/plain": [
       "male      577\n",
       "female    314\n",
       "Name: Sex, dtype: int64"
      ]
     },
     "execution_count": 11,
     "metadata": {},
     "output_type": "execute_result"
    }
   ],
   "source": [
    "df['Sex'].value_counts()"
   ]
  },
  {
   "cell_type": "code",
   "execution_count": 12,
   "id": "c0be3f65",
   "metadata": {
    "execution": {
     "iopub.execute_input": "2021-10-23T18:52:40.998152Z",
     "iopub.status.busy": "2021-10-23T18:52:40.996195Z",
     "iopub.status.idle": "2021-10-23T18:52:41.000097Z",
     "shell.execute_reply": "2021-10-23T18:52:41.000712Z",
     "shell.execute_reply.started": "2021-10-23T18:38:55.003448Z"
    },
    "papermill": {
     "duration": 0.05405,
     "end_time": "2021-10-23T18:52:41.000899",
     "exception": false,
     "start_time": "2021-10-23T18:52:40.946849",
     "status": "completed"
    },
    "tags": []
   },
   "outputs": [],
   "source": [
    "from sklearn.preprocessing import OrdinalEncoder #For Male and Female"
   ]
  },
  {
   "cell_type": "code",
   "execution_count": 13,
   "id": "535de98e",
   "metadata": {
    "execution": {
     "iopub.execute_input": "2021-10-23T18:52:41.094941Z",
     "iopub.status.busy": "2021-10-23T18:52:41.094207Z",
     "iopub.status.idle": "2021-10-23T18:52:41.099113Z",
     "shell.execute_reply": "2021-10-23T18:52:41.099677Z",
     "shell.execute_reply.started": "2021-10-23T18:38:57.566227Z"
    },
    "papermill": {
     "duration": 0.053245,
     "end_time": "2021-10-23T18:52:41.099865",
     "exception": false,
     "start_time": "2021-10-23T18:52:41.046620",
     "status": "completed"
    },
    "tags": []
   },
   "outputs": [],
   "source": [
    "# Cabin is a full of missing values so it is preferes to be dropped\\\n",
    "df.drop(['Cabin', 'Name', 'Ticket'], inplace = True, axis = 1)"
   ]
  },
  {
   "cell_type": "code",
   "execution_count": 14,
   "id": "e37f0c3a",
   "metadata": {
    "execution": {
     "iopub.execute_input": "2021-10-23T18:52:41.190719Z",
     "iopub.status.busy": "2021-10-23T18:52:41.190047Z",
     "iopub.status.idle": "2021-10-23T18:52:41.195675Z",
     "shell.execute_reply": "2021-10-23T18:52:41.195125Z",
     "shell.execute_reply.started": "2021-10-23T18:38:59.201953Z"
    },
    "papermill": {
     "duration": 0.052165,
     "end_time": "2021-10-23T18:52:41.195820",
     "exception": false,
     "start_time": "2021-10-23T18:52:41.143655",
     "status": "completed"
    },
    "tags": []
   },
   "outputs": [],
   "source": [
    "X = df.drop(['Survived'], axis = 1)  # Creating the Training data\n",
    "y = df['Survived'] # Creating the Testing data"
   ]
  },
  {
   "cell_type": "code",
   "execution_count": 15,
   "id": "fa0246d6",
   "metadata": {
    "execution": {
     "iopub.execute_input": "2021-10-23T18:52:41.298606Z",
     "iopub.status.busy": "2021-10-23T18:52:41.294146Z",
     "iopub.status.idle": "2021-10-23T18:52:41.301511Z",
     "shell.execute_reply": "2021-10-23T18:52:41.302019Z",
     "shell.execute_reply.started": "2021-10-23T18:39:00.107974Z"
    },
    "papermill": {
     "duration": 0.061065,
     "end_time": "2021-10-23T18:52:41.302191",
     "exception": false,
     "start_time": "2021-10-23T18:52:41.241126",
     "status": "completed"
    },
    "tags": []
   },
   "outputs": [
    {
     "name": "stdout",
     "output_type": "stream",
     "text": [
      "<class 'pandas.core.frame.DataFrame'>\n",
      "RangeIndex: 891 entries, 0 to 890\n",
      "Data columns (total 9 columns):\n",
      " #   Column       Non-Null Count  Dtype  \n",
      "---  ------       --------------  -----  \n",
      " 0   PassengerId  891 non-null    int64  \n",
      " 1   Survived     891 non-null    int64  \n",
      " 2   Pclass       891 non-null    int64  \n",
      " 3   Sex          891 non-null    object \n",
      " 4   Age          714 non-null    float64\n",
      " 5   SibSp        891 non-null    int64  \n",
      " 6   Parch        891 non-null    int64  \n",
      " 7   Fare         891 non-null    float64\n",
      " 8   Embarked     889 non-null    object \n",
      "dtypes: float64(2), int64(5), object(2)\n",
      "memory usage: 62.8+ KB\n"
     ]
    }
   ],
   "source": [
    "df.info()"
   ]
  },
  {
   "cell_type": "code",
   "execution_count": 16,
   "id": "0915b439",
   "metadata": {
    "execution": {
     "iopub.execute_input": "2021-10-23T18:52:41.399924Z",
     "iopub.status.busy": "2021-10-23T18:52:41.398630Z",
     "iopub.status.idle": "2021-10-23T18:52:41.402748Z",
     "shell.execute_reply": "2021-10-23T18:52:41.402152Z",
     "shell.execute_reply.started": "2021-10-23T18:39:04.052537Z"
    },
    "papermill": {
     "duration": 0.055367,
     "end_time": "2021-10-23T18:52:41.402885",
     "exception": false,
     "start_time": "2021-10-23T18:52:41.347518",
     "status": "completed"
    },
    "tags": []
   },
   "outputs": [],
   "source": [
    "df['Embarked'] = df['Embarked'].fillna(df['Embarked'].mode())"
   ]
  },
  {
   "cell_type": "code",
   "execution_count": 17,
   "id": "560be636",
   "metadata": {
    "execution": {
     "iopub.execute_input": "2021-10-23T18:52:41.503395Z",
     "iopub.status.busy": "2021-10-23T18:52:41.502737Z",
     "iopub.status.idle": "2021-10-23T18:52:41.506058Z",
     "shell.execute_reply": "2021-10-23T18:52:41.505531Z",
     "shell.execute_reply.started": "2021-10-23T18:39:06.984387Z"
    },
    "papermill": {
     "duration": 0.058843,
     "end_time": "2021-10-23T18:52:41.506194",
     "exception": false,
     "start_time": "2021-10-23T18:52:41.447351",
     "status": "completed"
    },
    "tags": []
   },
   "outputs": [
    {
     "name": "stdout",
     "output_type": "stream",
     "text": [
      "<class 'pandas.core.frame.DataFrame'>\n",
      "RangeIndex: 891 entries, 0 to 890\n",
      "Data columns (total 9 columns):\n",
      " #   Column       Non-Null Count  Dtype  \n",
      "---  ------       --------------  -----  \n",
      " 0   PassengerId  891 non-null    int64  \n",
      " 1   Survived     891 non-null    int64  \n",
      " 2   Pclass       891 non-null    int64  \n",
      " 3   Sex          891 non-null    object \n",
      " 4   Age          714 non-null    float64\n",
      " 5   SibSp        891 non-null    int64  \n",
      " 6   Parch        891 non-null    int64  \n",
      " 7   Fare         891 non-null    float64\n",
      " 8   Embarked     889 non-null    object \n",
      "dtypes: float64(2), int64(5), object(2)\n",
      "memory usage: 62.8+ KB\n"
     ]
    }
   ],
   "source": [
    "df.info()"
   ]
  },
  {
   "cell_type": "code",
   "execution_count": 18,
   "id": "274db667",
   "metadata": {
    "execution": {
     "iopub.execute_input": "2021-10-23T18:52:41.602815Z",
     "iopub.status.busy": "2021-10-23T18:52:41.602126Z",
     "iopub.status.idle": "2021-10-23T18:52:41.604656Z",
     "shell.execute_reply": "2021-10-23T18:52:41.604084Z",
     "shell.execute_reply.started": "2021-10-23T18:39:14.043471Z"
    },
    "papermill": {
     "duration": 0.053751,
     "end_time": "2021-10-23T18:52:41.604794",
     "exception": false,
     "start_time": "2021-10-23T18:52:41.551043",
     "status": "completed"
    },
    "tags": []
   },
   "outputs": [],
   "source": [
    "df['Embarked'] = df['Embarked'].fillna(df['Embarked'].mode().iloc[0])"
   ]
  },
  {
   "cell_type": "code",
   "execution_count": 19,
   "id": "1d840001",
   "metadata": {
    "execution": {
     "iopub.execute_input": "2021-10-23T18:52:41.700865Z",
     "iopub.status.busy": "2021-10-23T18:52:41.700153Z",
     "iopub.status.idle": "2021-10-23T18:52:41.709766Z",
     "shell.execute_reply": "2021-10-23T18:52:41.710677Z",
     "shell.execute_reply.started": "2021-10-23T18:39:21.252251Z"
    },
    "papermill": {
     "duration": 0.061591,
     "end_time": "2021-10-23T18:52:41.710969",
     "exception": false,
     "start_time": "2021-10-23T18:52:41.649378",
     "status": "completed"
    },
    "tags": []
   },
   "outputs": [
    {
     "name": "stdout",
     "output_type": "stream",
     "text": [
      "<class 'pandas.core.frame.DataFrame'>\n",
      "RangeIndex: 891 entries, 0 to 890\n",
      "Data columns (total 9 columns):\n",
      " #   Column       Non-Null Count  Dtype  \n",
      "---  ------       --------------  -----  \n",
      " 0   PassengerId  891 non-null    int64  \n",
      " 1   Survived     891 non-null    int64  \n",
      " 2   Pclass       891 non-null    int64  \n",
      " 3   Sex          891 non-null    object \n",
      " 4   Age          714 non-null    float64\n",
      " 5   SibSp        891 non-null    int64  \n",
      " 6   Parch        891 non-null    int64  \n",
      " 7   Fare         891 non-null    float64\n",
      " 8   Embarked     891 non-null    object \n",
      "dtypes: float64(2), int64(5), object(2)\n",
      "memory usage: 62.8+ KB\n"
     ]
    }
   ],
   "source": [
    "df.info()"
   ]
  },
  {
   "cell_type": "code",
   "execution_count": 20,
   "id": "312ba53e",
   "metadata": {
    "execution": {
     "iopub.execute_input": "2021-10-23T18:52:41.809404Z",
     "iopub.status.busy": "2021-10-23T18:52:41.808614Z",
     "iopub.status.idle": "2021-10-23T18:52:41.811374Z",
     "shell.execute_reply": "2021-10-23T18:52:41.810825Z",
     "shell.execute_reply.started": "2021-10-23T18:39:27.650351Z"
    },
    "papermill": {
     "duration": 0.054712,
     "end_time": "2021-10-23T18:52:41.811520",
     "exception": false,
     "start_time": "2021-10-23T18:52:41.756808",
     "status": "completed"
    },
    "tags": []
   },
   "outputs": [],
   "source": [
    "X = df.drop(['Survived'], axis = 1)\n",
    "y = df['Survived']"
   ]
  },
  {
   "cell_type": "code",
   "execution_count": 21,
   "id": "7e69cd31",
   "metadata": {
    "execution": {
     "iopub.execute_input": "2021-10-23T18:52:41.906955Z",
     "iopub.status.busy": "2021-10-23T18:52:41.904417Z",
     "iopub.status.idle": "2021-10-23T18:52:41.915632Z",
     "shell.execute_reply": "2021-10-23T18:52:41.915042Z",
     "shell.execute_reply.started": "2021-10-23T18:39:30.785549Z"
    },
    "papermill": {
     "duration": 0.059174,
     "end_time": "2021-10-23T18:52:41.915776",
     "exception": false,
     "start_time": "2021-10-23T18:52:41.856602",
     "status": "completed"
    },
    "tags": []
   },
   "outputs": [],
   "source": [
    "from sklearn.compose import ColumnTransformer\n",
    "full_pipeline = ColumnTransformer([\n",
    "    ('numerical', pipeline_num, ['Pclass', 'Age', 'SibSp', 'Parch', 'Fare']),\n",
    "    ('Cat', OrdinalEncoder(), ['Sex', 'Embarked']),\n",
    "])\n"
   ]
  },
  {
   "cell_type": "code",
   "execution_count": 22,
   "id": "53d9b30a",
   "metadata": {
    "execution": {
     "iopub.execute_input": "2021-10-23T18:52:42.009287Z",
     "iopub.status.busy": "2021-10-23T18:52:42.008567Z",
     "iopub.status.idle": "2021-10-23T18:52:42.021489Z",
     "shell.execute_reply": "2021-10-23T18:52:42.022008Z",
     "shell.execute_reply.started": "2021-10-23T18:40:13.466735Z"
    },
    "papermill": {
     "duration": 0.061045,
     "end_time": "2021-10-23T18:52:42.022196",
     "exception": false,
     "start_time": "2021-10-23T18:52:41.961151",
     "status": "completed"
    },
    "tags": []
   },
   "outputs": [],
   "source": [
    "X_prepared = full_pipeline.fit_transform(X)"
   ]
  },
  {
   "cell_type": "code",
   "execution_count": 23,
   "id": "154af163",
   "metadata": {
    "execution": {
     "iopub.execute_input": "2021-10-23T18:52:42.115918Z",
     "iopub.status.busy": "2021-10-23T18:52:42.115193Z",
     "iopub.status.idle": "2021-10-23T18:52:42.120475Z",
     "shell.execute_reply": "2021-10-23T18:52:42.121008Z",
     "shell.execute_reply.started": "2021-10-23T18:40:14.232018Z"
    },
    "papermill": {
     "duration": 0.053426,
     "end_time": "2021-10-23T18:52:42.121175",
     "exception": false,
     "start_time": "2021-10-23T18:52:42.067749",
     "status": "completed"
    },
    "tags": []
   },
   "outputs": [
    {
     "data": {
      "text/plain": [
       "array([[ 3.    , 22.    ,  1.    , ...,  7.25  ,  1.    ,  2.    ],\n",
       "       [ 1.    , 38.    ,  1.    , ..., 71.2833,  0.    ,  0.    ],\n",
       "       [ 3.    , 26.    ,  0.    , ...,  7.925 ,  0.    ,  2.    ],\n",
       "       ...,\n",
       "       [ 3.    , 28.    ,  1.    , ..., 23.45  ,  0.    ,  2.    ],\n",
       "       [ 1.    , 26.    ,  0.    , ..., 30.    ,  1.    ,  0.    ],\n",
       "       [ 3.    , 32.    ,  0.    , ...,  7.75  ,  1.    ,  1.    ]])"
      ]
     },
     "execution_count": 23,
     "metadata": {},
     "output_type": "execute_result"
    }
   ],
   "source": [
    "X_prepared"
   ]
  },
  {
   "cell_type": "code",
   "execution_count": 24,
   "id": "1c311e18",
   "metadata": {
    "execution": {
     "iopub.execute_input": "2021-10-23T18:52:42.215735Z",
     "iopub.status.busy": "2021-10-23T18:52:42.215008Z",
     "iopub.status.idle": "2021-10-23T18:52:42.218423Z",
     "shell.execute_reply": "2021-10-23T18:52:42.218899Z",
     "shell.execute_reply.started": "2021-10-23T18:40:15.544250Z"
    },
    "papermill": {
     "duration": 0.052334,
     "end_time": "2021-10-23T18:52:42.219073",
     "exception": false,
     "start_time": "2021-10-23T18:52:42.166739",
     "status": "completed"
    },
    "tags": []
   },
   "outputs": [],
   "source": [
    "from sklearn.neighbors import KNeighborsClassifier"
   ]
  },
  {
   "cell_type": "code",
   "execution_count": 25,
   "id": "4ecebd19",
   "metadata": {
    "execution": {
     "iopub.execute_input": "2021-10-23T18:52:42.316809Z",
     "iopub.status.busy": "2021-10-23T18:52:42.316077Z",
     "iopub.status.idle": "2021-10-23T18:52:42.319368Z",
     "shell.execute_reply": "2021-10-23T18:52:42.319924Z",
     "shell.execute_reply.started": "2021-10-23T18:40:16.128499Z"
    },
    "papermill": {
     "duration": 0.054155,
     "end_time": "2021-10-23T18:52:42.320102",
     "exception": false,
     "start_time": "2021-10-23T18:52:42.265947",
     "status": "completed"
    },
    "tags": []
   },
   "outputs": [],
   "source": [
    "from sklearn.model_selection import cross_val_score"
   ]
  },
  {
   "cell_type": "code",
   "execution_count": 26,
   "id": "5fdc3f5f",
   "metadata": {
    "execution": {
     "iopub.execute_input": "2021-10-23T18:52:42.415033Z",
     "iopub.status.busy": "2021-10-23T18:52:42.414293Z",
     "iopub.status.idle": "2021-10-23T18:52:42.417724Z",
     "shell.execute_reply": "2021-10-23T18:52:42.418308Z",
     "shell.execute_reply.started": "2021-10-23T18:40:16.587115Z"
    },
    "papermill": {
     "duration": 0.051761,
     "end_time": "2021-10-23T18:52:42.418486",
     "exception": false,
     "start_time": "2021-10-23T18:52:42.366725",
     "status": "completed"
    },
    "tags": []
   },
   "outputs": [],
   "source": [
    "y_train = np.array(y)"
   ]
  },
  {
   "cell_type": "code",
   "execution_count": 27,
   "id": "a1fb91a0",
   "metadata": {
    "execution": {
     "iopub.execute_input": "2021-10-23T18:52:42.512580Z",
     "iopub.status.busy": "2021-10-23T18:52:42.511927Z",
     "iopub.status.idle": "2021-10-23T18:52:42.601840Z",
     "shell.execute_reply": "2021-10-23T18:52:42.601198Z",
     "shell.execute_reply.started": "2021-10-23T18:40:16.913478Z"
    },
    "papermill": {
     "duration": 0.137923,
     "end_time": "2021-10-23T18:52:42.601986",
     "exception": false,
     "start_time": "2021-10-23T18:52:42.464063",
     "status": "completed"
    },
    "tags": []
   },
   "outputs": [],
   "source": [
    "kn_clf = KNeighborsClassifier()\n",
    "scores = cross_val_score(kn_clf, X_prepared, y_train, cv = 20, scoring = 'accuracy')"
   ]
  },
  {
   "cell_type": "code",
   "execution_count": 28,
   "id": "4cdf7112",
   "metadata": {
    "execution": {
     "iopub.execute_input": "2021-10-23T18:52:42.698219Z",
     "iopub.status.busy": "2021-10-23T18:52:42.697578Z",
     "iopub.status.idle": "2021-10-23T18:52:42.700013Z",
     "shell.execute_reply": "2021-10-23T18:52:42.700506Z",
     "shell.execute_reply.started": "2021-10-23T18:40:17.784400Z"
    },
    "papermill": {
     "duration": 0.053196,
     "end_time": "2021-10-23T18:52:42.700667",
     "exception": false,
     "start_time": "2021-10-23T18:52:42.647471",
     "status": "completed"
    },
    "tags": []
   },
   "outputs": [
    {
     "data": {
      "text/plain": [
       "array([0.53333333, 0.75555556, 0.71111111, 0.66666667, 0.68888889,\n",
       "       0.75555556, 0.75555556, 0.73333333, 0.8       , 0.62222222,\n",
       "       0.73333333, 0.70454545, 0.70454545, 0.79545455, 0.70454545,\n",
       "       0.72727273, 0.65909091, 0.75      , 0.75      , 0.79545455])"
      ]
     },
     "execution_count": 28,
     "metadata": {},
     "output_type": "execute_result"
    }
   ],
   "source": [
    "scores"
   ]
  },
  {
   "cell_type": "code",
   "execution_count": 29,
   "id": "3ba229cf",
   "metadata": {
    "execution": {
     "iopub.execute_input": "2021-10-23T18:52:42.794695Z",
     "iopub.status.busy": "2021-10-23T18:52:42.794023Z",
     "iopub.status.idle": "2021-10-23T18:52:42.797297Z",
     "shell.execute_reply": "2021-10-23T18:52:42.797836Z",
     "shell.execute_reply.started": "2021-10-23T18:40:19.434442Z"
    },
    "papermill": {
     "duration": 0.051893,
     "end_time": "2021-10-23T18:52:42.798006",
     "exception": false,
     "start_time": "2021-10-23T18:52:42.746113",
     "status": "completed"
    },
    "tags": []
   },
   "outputs": [],
   "source": [
    "from sklearn.model_selection import GridSearchCV"
   ]
  },
  {
   "cell_type": "code",
   "execution_count": 30,
   "id": "d7a642d3",
   "metadata": {
    "execution": {
     "iopub.execute_input": "2021-10-23T18:52:42.892595Z",
     "iopub.status.busy": "2021-10-23T18:52:42.891886Z",
     "iopub.status.idle": "2021-10-23T18:52:44.916470Z",
     "shell.execute_reply": "2021-10-23T18:52:44.917547Z",
     "shell.execute_reply.started": "2021-10-23T18:40:20.299892Z"
    },
    "papermill": {
     "duration": 2.074179,
     "end_time": "2021-10-23T18:52:44.917830",
     "exception": false,
     "start_time": "2021-10-23T18:52:42.843651",
     "status": "completed"
    },
    "tags": []
   },
   "outputs": [
    {
     "data": {
      "text/plain": [
       "GridSearchCV(cv=20, estimator=KNeighborsClassifier(),\n",
       "             param_grid=[{'algorithm': ['auto', 'ball_tree', 'kd_tree',\n",
       "                                        'brute'],\n",
       "                          'n_neighbors': [8, 9, 10],\n",
       "                          'weights': ['uniform', 'distance']}],\n",
       "             scoring='accuracy')"
      ]
     },
     "execution_count": 30,
     "metadata": {},
     "output_type": "execute_result"
    }
   ],
   "source": [
    "param_grid = [\n",
    "    {'n_neighbors': [8, 9, 10], 'weights': ['uniform', 'distance'], 'algorithm': ['auto', 'ball_tree', 'kd_tree', 'brute']}\n",
    "]\n",
    "\n",
    "kn_clf = KNeighborsClassifier()\n",
    "grid_search = GridSearchCV(kn_clf, param_grid, cv = 20, scoring = 'accuracy')\n",
    "grid_search.fit(X_prepared, y_train)"
   ]
  },
  {
   "cell_type": "code",
   "execution_count": 31,
   "id": "440739e7",
   "metadata": {
    "execution": {
     "iopub.execute_input": "2021-10-23T18:52:45.042979Z",
     "iopub.status.busy": "2021-10-23T18:52:45.042312Z",
     "iopub.status.idle": "2021-10-23T18:52:45.044767Z",
     "shell.execute_reply": "2021-10-23T18:52:45.045253Z",
     "shell.execute_reply.started": "2021-10-23T18:40:22.255464Z"
    },
    "papermill": {
     "duration": 0.053451,
     "end_time": "2021-10-23T18:52:45.045466",
     "exception": false,
     "start_time": "2021-10-23T18:52:44.992015",
     "status": "completed"
    },
    "tags": []
   },
   "outputs": [
    {
     "data": {
      "text/plain": [
       "{'algorithm': 'auto', 'n_neighbors': 8, 'weights': 'distance'}"
      ]
     },
     "execution_count": 31,
     "metadata": {},
     "output_type": "execute_result"
    }
   ],
   "source": [
    "grid_search.best_params_"
   ]
  },
  {
   "cell_type": "code",
   "execution_count": 32,
   "id": "311d68fd",
   "metadata": {
    "execution": {
     "iopub.execute_input": "2021-10-23T18:52:45.141629Z",
     "iopub.status.busy": "2021-10-23T18:52:45.140965Z",
     "iopub.status.idle": "2021-10-23T18:52:45.145657Z",
     "shell.execute_reply": "2021-10-23T18:52:45.146247Z",
     "shell.execute_reply.started": "2021-10-23T18:40:25.467426Z"
    },
    "papermill": {
     "duration": 0.054167,
     "end_time": "2021-10-23T18:52:45.146428",
     "exception": false,
     "start_time": "2021-10-23T18:52:45.092261",
     "status": "completed"
    },
    "tags": []
   },
   "outputs": [
    {
     "data": {
      "text/plain": [
       "KNeighborsClassifier(n_neighbors=8, weights='distance')"
      ]
     },
     "execution_count": 32,
     "metadata": {},
     "output_type": "execute_result"
    }
   ],
   "source": [
    "grid_search.best_estimator_"
   ]
  },
  {
   "cell_type": "code",
   "execution_count": 33,
   "id": "3f827b7b",
   "metadata": {
    "execution": {
     "iopub.execute_input": "2021-10-23T18:52:45.242768Z",
     "iopub.status.busy": "2021-10-23T18:52:45.242118Z",
     "iopub.status.idle": "2021-10-23T18:52:45.246544Z",
     "shell.execute_reply": "2021-10-23T18:52:45.247080Z",
     "shell.execute_reply.started": "2021-10-23T18:40:27.017198Z"
    },
    "papermill": {
     "duration": 0.054159,
     "end_time": "2021-10-23T18:52:45.247242",
     "exception": false,
     "start_time": "2021-10-23T18:52:45.193083",
     "status": "completed"
    },
    "tags": []
   },
   "outputs": [
    {
     "data": {
      "text/plain": [
       "0.7441161616161616"
      ]
     },
     "execution_count": 33,
     "metadata": {},
     "output_type": "execute_result"
    }
   ],
   "source": [
    "grid_search.best_score_"
   ]
  },
  {
   "cell_type": "code",
   "execution_count": 34,
   "id": "14976e9d",
   "metadata": {
    "execution": {
     "iopub.execute_input": "2021-10-23T18:52:45.344582Z",
     "iopub.status.busy": "2021-10-23T18:52:45.343935Z",
     "iopub.status.idle": "2021-10-23T18:52:45.397246Z",
     "shell.execute_reply": "2021-10-23T18:52:45.396486Z",
     "shell.execute_reply.started": "2021-10-23T18:40:27.949484Z"
    },
    "papermill": {
     "duration": 0.102704,
     "end_time": "2021-10-23T18:52:45.397409",
     "exception": false,
     "start_time": "2021-10-23T18:52:45.294705",
     "status": "completed"
    },
    "tags": []
   },
   "outputs": [],
   "source": [
    "from sklearn.ensemble import RandomForestClassifier"
   ]
  },
  {
   "cell_type": "code",
   "execution_count": 35,
   "id": "25287b33",
   "metadata": {
    "execution": {
     "iopub.execute_input": "2021-10-23T18:52:45.494553Z",
     "iopub.status.busy": "2021-10-23T18:52:45.493883Z",
     "iopub.status.idle": "2021-10-23T18:52:52.613295Z",
     "shell.execute_reply": "2021-10-23T18:52:52.613862Z",
     "shell.execute_reply.started": "2021-10-23T18:40:28.742535Z"
    },
    "papermill": {
     "duration": 7.169583,
     "end_time": "2021-10-23T18:52:52.614043",
     "exception": false,
     "start_time": "2021-10-23T18:52:45.444460",
     "status": "completed"
    },
    "tags": []
   },
   "outputs": [],
   "source": [
    "forest_clf = RandomForestClassifier(random_state = 42)\n",
    "\n",
    "scores = cross_val_score(forest_clf, X_prepared, y_train, cv = 30)"
   ]
  },
  {
   "cell_type": "code",
   "execution_count": 36,
   "id": "cce4cf5d",
   "metadata": {
    "execution": {
     "iopub.execute_input": "2021-10-23T18:52:52.713116Z",
     "iopub.status.busy": "2021-10-23T18:52:52.712387Z",
     "iopub.status.idle": "2021-10-23T18:52:52.717326Z",
     "shell.execute_reply": "2021-10-23T18:52:52.717866Z",
     "shell.execute_reply.started": "2021-10-23T18:40:35.876207Z"
    },
    "papermill": {
     "duration": 0.055971,
     "end_time": "2021-10-23T18:52:52.718041",
     "exception": false,
     "start_time": "2021-10-23T18:52:52.662070",
     "status": "completed"
    },
    "tags": []
   },
   "outputs": [
    {
     "data": {
      "text/plain": [
       "array([0.73333333, 0.66666667, 0.96666667, 0.8       , 0.76666667,\n",
       "       0.76666667, 0.83333333, 0.76666667, 0.73333333, 0.76666667,\n",
       "       0.93333333, 0.8       , 0.9       , 0.86666667, 0.83333333,\n",
       "       0.9       , 0.8       , 0.76666667, 0.8       , 0.8       ,\n",
       "       0.86666667, 0.79310345, 0.72413793, 0.79310345, 0.82758621,\n",
       "       0.86206897, 0.89655172, 0.75862069, 0.86206897, 0.96551724])"
      ]
     },
     "execution_count": 36,
     "metadata": {},
     "output_type": "execute_result"
    }
   ],
   "source": [
    "scores"
   ]
  },
  {
   "cell_type": "code",
   "execution_count": 37,
   "id": "ef528eb4",
   "metadata": {
    "execution": {
     "iopub.execute_input": "2021-10-23T18:52:52.816833Z",
     "iopub.status.busy": "2021-10-23T18:52:52.816049Z",
     "iopub.status.idle": "2021-10-23T18:52:52.830206Z",
     "shell.execute_reply": "2021-10-23T18:52:52.830809Z",
     "shell.execute_reply.started": "2021-10-23T18:40:40.301017Z"
    },
    "papermill": {
     "duration": 0.064916,
     "end_time": "2021-10-23T18:52:52.830996",
     "exception": false,
     "start_time": "2021-10-23T18:52:52.766080",
     "status": "completed"
    },
    "tags": []
   },
   "outputs": [],
   "source": [
    "df_test = pd.read_csv('/kaggle/input/titanic/test.csv')"
   ]
  },
  {
   "cell_type": "code",
   "execution_count": 38,
   "id": "adb99539",
   "metadata": {
    "execution": {
     "iopub.execute_input": "2021-10-23T18:52:52.931037Z",
     "iopub.status.busy": "2021-10-23T18:52:52.930417Z",
     "iopub.status.idle": "2021-10-23T18:52:52.934595Z",
     "shell.execute_reply": "2021-10-23T18:52:52.935211Z",
     "shell.execute_reply.started": "2021-10-23T18:40:43.541563Z"
    },
    "papermill": {
     "duration": 0.055946,
     "end_time": "2021-10-23T18:52:52.935400",
     "exception": false,
     "start_time": "2021-10-23T18:52:52.879454",
     "status": "completed"
    },
    "tags": []
   },
   "outputs": [
    {
     "data": {
      "text/plain": [
       "(418, 11)"
      ]
     },
     "execution_count": 38,
     "metadata": {},
     "output_type": "execute_result"
    }
   ],
   "source": [
    "df_test.shape"
   ]
  },
  {
   "cell_type": "code",
   "execution_count": 39,
   "id": "3c9bc6ae",
   "metadata": {
    "execution": {
     "iopub.execute_input": "2021-10-23T18:52:53.034438Z",
     "iopub.status.busy": "2021-10-23T18:52:53.033749Z",
     "iopub.status.idle": "2021-10-23T18:52:53.045673Z",
     "shell.execute_reply": "2021-10-23T18:52:53.046179Z",
     "shell.execute_reply.started": "2021-10-23T18:40:43.828961Z"
    },
    "papermill": {
     "duration": 0.062734,
     "end_time": "2021-10-23T18:52:53.046379",
     "exception": false,
     "start_time": "2021-10-23T18:52:52.983645",
     "status": "completed"
    },
    "tags": []
   },
   "outputs": [
    {
     "name": "stdout",
     "output_type": "stream",
     "text": [
      "<class 'pandas.core.frame.DataFrame'>\n",
      "RangeIndex: 418 entries, 0 to 417\n",
      "Data columns (total 11 columns):\n",
      " #   Column       Non-Null Count  Dtype  \n",
      "---  ------       --------------  -----  \n",
      " 0   PassengerId  418 non-null    int64  \n",
      " 1   Pclass       418 non-null    int64  \n",
      " 2   Name         418 non-null    object \n",
      " 3   Sex          418 non-null    object \n",
      " 4   Age          332 non-null    float64\n",
      " 5   SibSp        418 non-null    int64  \n",
      " 6   Parch        418 non-null    int64  \n",
      " 7   Ticket       418 non-null    object \n",
      " 8   Fare         417 non-null    float64\n",
      " 9   Cabin        91 non-null     object \n",
      " 10  Embarked     418 non-null    object \n",
      "dtypes: float64(2), int64(4), object(5)\n",
      "memory usage: 36.0+ KB\n"
     ]
    }
   ],
   "source": [
    "df_test.info()"
   ]
  },
  {
   "cell_type": "code",
   "execution_count": 40,
   "id": "e7fa1760",
   "metadata": {
    "execution": {
     "iopub.execute_input": "2021-10-23T18:52:53.147396Z",
     "iopub.status.busy": "2021-10-23T18:52:53.146587Z",
     "iopub.status.idle": "2021-10-23T18:52:53.152177Z",
     "shell.execute_reply": "2021-10-23T18:52:53.151567Z",
     "shell.execute_reply.started": "2021-10-23T18:40:51.005689Z"
    },
    "papermill": {
     "duration": 0.056515,
     "end_time": "2021-10-23T18:52:53.152347",
     "exception": false,
     "start_time": "2021-10-23T18:52:53.095832",
     "status": "completed"
    },
    "tags": []
   },
   "outputs": [],
   "source": [
    "df_test.drop(['Cabin', 'Name', 'Ticket'], axis = 1, inplace = True)"
   ]
  },
  {
   "cell_type": "code",
   "execution_count": 41,
   "id": "e28aba4e",
   "metadata": {
    "execution": {
     "iopub.execute_input": "2021-10-23T18:52:53.251836Z",
     "iopub.status.busy": "2021-10-23T18:52:53.251147Z",
     "iopub.status.idle": "2021-10-23T18:52:53.256165Z",
     "shell.execute_reply": "2021-10-23T18:52:53.256729Z",
     "shell.execute_reply.started": "2021-10-23T18:40:57.427355Z"
    },
    "papermill": {
     "duration": 0.056451,
     "end_time": "2021-10-23T18:52:53.256927",
     "exception": false,
     "start_time": "2021-10-23T18:52:53.200476",
     "status": "completed"
    },
    "tags": []
   },
   "outputs": [],
   "source": [
    "df_test['Embarked'] = df_test['Embarked'].fillna(df['Embarked'].mode().iloc[0])"
   ]
  },
  {
   "cell_type": "code",
   "execution_count": 42,
   "id": "2e843611",
   "metadata": {
    "execution": {
     "iopub.execute_input": "2021-10-23T18:52:53.360736Z",
     "iopub.status.busy": "2021-10-23T18:52:53.359983Z",
     "iopub.status.idle": "2021-10-23T18:52:53.369515Z",
     "shell.execute_reply": "2021-10-23T18:52:53.368795Z",
     "shell.execute_reply.started": "2021-10-23T18:40:57.597505Z"
    },
    "papermill": {
     "duration": 0.063732,
     "end_time": "2021-10-23T18:52:53.369666",
     "exception": false,
     "start_time": "2021-10-23T18:52:53.305934",
     "status": "completed"
    },
    "tags": []
   },
   "outputs": [
    {
     "name": "stdout",
     "output_type": "stream",
     "text": [
      "<class 'pandas.core.frame.DataFrame'>\n",
      "RangeIndex: 418 entries, 0 to 417\n",
      "Data columns (total 8 columns):\n",
      " #   Column       Non-Null Count  Dtype  \n",
      "---  ------       --------------  -----  \n",
      " 0   PassengerId  418 non-null    int64  \n",
      " 1   Pclass       418 non-null    int64  \n",
      " 2   Sex          418 non-null    object \n",
      " 3   Age          332 non-null    float64\n",
      " 4   SibSp        418 non-null    int64  \n",
      " 5   Parch        418 non-null    int64  \n",
      " 6   Fare         417 non-null    float64\n",
      " 7   Embarked     418 non-null    object \n",
      "dtypes: float64(2), int64(4), object(2)\n",
      "memory usage: 26.2+ KB\n"
     ]
    }
   ],
   "source": [
    "df_test.info()"
   ]
  },
  {
   "cell_type": "code",
   "execution_count": 43,
   "id": "753fdcf1",
   "metadata": {
    "execution": {
     "iopub.execute_input": "2021-10-23T18:52:53.474200Z",
     "iopub.status.busy": "2021-10-23T18:52:53.472078Z",
     "iopub.status.idle": "2021-10-23T18:52:53.480097Z",
     "shell.execute_reply": "2021-10-23T18:52:53.479576Z",
     "shell.execute_reply.started": "2021-10-23T18:41:07.510334Z"
    },
    "papermill": {
     "duration": 0.062085,
     "end_time": "2021-10-23T18:52:53.480241",
     "exception": false,
     "start_time": "2021-10-23T18:52:53.418156",
     "status": "completed"
    },
    "tags": []
   },
   "outputs": [],
   "source": [
    "test_prepared = full_pipeline.transform(df_test)"
   ]
  },
  {
   "cell_type": "code",
   "execution_count": 44,
   "id": "1fd65ae3",
   "metadata": {
    "execution": {
     "iopub.execute_input": "2021-10-23T18:52:53.581824Z",
     "iopub.status.busy": "2021-10-23T18:52:53.580101Z",
     "iopub.status.idle": "2021-10-23T18:52:53.815582Z",
     "shell.execute_reply": "2021-10-23T18:52:53.816113Z",
     "shell.execute_reply.started": "2021-10-23T18:48:30.840957Z"
    },
    "papermill": {
     "duration": 0.287616,
     "end_time": "2021-10-23T18:52:53.816297",
     "exception": false,
     "start_time": "2021-10-23T18:52:53.528681",
     "status": "completed"
    },
    "tags": []
   },
   "outputs": [
    {
     "data": {
      "text/plain": [
       "RandomForestClassifier(random_state=42)"
      ]
     },
     "execution_count": 44,
     "metadata": {},
     "output_type": "execute_result"
    }
   ],
   "source": [
    "forest_clf.fit(X_prepared, y_train)"
   ]
  },
  {
   "cell_type": "code",
   "execution_count": 45,
   "id": "1f46714e",
   "metadata": {
    "execution": {
     "iopub.execute_input": "2021-10-23T18:52:53.918672Z",
     "iopub.status.busy": "2021-10-23T18:52:53.916419Z",
     "iopub.status.idle": "2021-10-23T18:52:53.938053Z",
     "shell.execute_reply": "2021-10-23T18:52:53.937482Z",
     "shell.execute_reply.started": "2021-10-23T18:48:33.349878Z"
    },
    "papermill": {
     "duration": 0.073299,
     "end_time": "2021-10-23T18:52:53.938191",
     "exception": false,
     "start_time": "2021-10-23T18:52:53.864892",
     "status": "completed"
    },
    "tags": []
   },
   "outputs": [],
   "source": [
    "predictions = forest_clf.predict(test_prepared)"
   ]
  },
  {
   "cell_type": "code",
   "execution_count": 46,
   "id": "d217515c",
   "metadata": {
    "execution": {
     "iopub.execute_input": "2021-10-23T18:52:54.042515Z",
     "iopub.status.busy": "2021-10-23T18:52:54.041517Z",
     "iopub.status.idle": "2021-10-23T18:52:54.044132Z",
     "shell.execute_reply": "2021-10-23T18:52:54.043626Z",
     "shell.execute_reply.started": "2021-10-23T18:49:22.046861Z"
    },
    "papermill": {
     "duration": 0.057235,
     "end_time": "2021-10-23T18:52:54.044304",
     "exception": false,
     "start_time": "2021-10-23T18:52:53.987069",
     "status": "completed"
    },
    "tags": []
   },
   "outputs": [],
   "source": [
    "x = np.c_[df_test['PassengerId'], predictions]"
   ]
  },
  {
   "cell_type": "code",
   "execution_count": 47,
   "id": "fa1757ec",
   "metadata": {
    "execution": {
     "iopub.execute_input": "2021-10-23T18:52:54.148406Z",
     "iopub.status.busy": "2021-10-23T18:52:54.147449Z",
     "iopub.status.idle": "2021-10-23T18:52:54.150427Z",
     "shell.execute_reply": "2021-10-23T18:52:54.149894Z",
     "shell.execute_reply.started": "2021-10-23T18:50:22.373712Z"
    },
    "papermill": {
     "duration": 0.056873,
     "end_time": "2021-10-23T18:52:54.150579",
     "exception": false,
     "start_time": "2021-10-23T18:52:54.093706",
     "status": "completed"
    },
    "tags": []
   },
   "outputs": [],
   "source": [
    "dd = pd.DataFrame(x, columns=['PassengerId', 'Survived'])"
   ]
  },
  {
   "cell_type": "code",
   "execution_count": 48,
   "id": "ea754b91",
   "metadata": {
    "execution": {
     "iopub.execute_input": "2021-10-23T18:52:54.252142Z",
     "iopub.status.busy": "2021-10-23T18:52:54.251156Z",
     "iopub.status.idle": "2021-10-23T18:52:54.261745Z",
     "shell.execute_reply": "2021-10-23T18:52:54.262329Z",
     "shell.execute_reply.started": "2021-10-23T18:50:26.560764Z"
    },
    "papermill": {
     "duration": 0.063167,
     "end_time": "2021-10-23T18:52:54.262500",
     "exception": false,
     "start_time": "2021-10-23T18:52:54.199333",
     "status": "completed"
    },
    "tags": []
   },
   "outputs": [
    {
     "data": {
      "text/html": [
       "<div>\n",
       "<style scoped>\n",
       "    .dataframe tbody tr th:only-of-type {\n",
       "        vertical-align: middle;\n",
       "    }\n",
       "\n",
       "    .dataframe tbody tr th {\n",
       "        vertical-align: top;\n",
       "    }\n",
       "\n",
       "    .dataframe thead th {\n",
       "        text-align: right;\n",
       "    }\n",
       "</style>\n",
       "<table border=\"1\" class=\"dataframe\">\n",
       "  <thead>\n",
       "    <tr style=\"text-align: right;\">\n",
       "      <th></th>\n",
       "      <th>PassengerId</th>\n",
       "      <th>Survived</th>\n",
       "    </tr>\n",
       "  </thead>\n",
       "  <tbody>\n",
       "    <tr>\n",
       "      <th>0</th>\n",
       "      <td>892</td>\n",
       "      <td>0</td>\n",
       "    </tr>\n",
       "    <tr>\n",
       "      <th>1</th>\n",
       "      <td>893</td>\n",
       "      <td>0</td>\n",
       "    </tr>\n",
       "    <tr>\n",
       "      <th>2</th>\n",
       "      <td>894</td>\n",
       "      <td>0</td>\n",
       "    </tr>\n",
       "    <tr>\n",
       "      <th>3</th>\n",
       "      <td>895</td>\n",
       "      <td>1</td>\n",
       "    </tr>\n",
       "    <tr>\n",
       "      <th>4</th>\n",
       "      <td>896</td>\n",
       "      <td>0</td>\n",
       "    </tr>\n",
       "    <tr>\n",
       "      <th>...</th>\n",
       "      <td>...</td>\n",
       "      <td>...</td>\n",
       "    </tr>\n",
       "    <tr>\n",
       "      <th>413</th>\n",
       "      <td>1305</td>\n",
       "      <td>0</td>\n",
       "    </tr>\n",
       "    <tr>\n",
       "      <th>414</th>\n",
       "      <td>1306</td>\n",
       "      <td>1</td>\n",
       "    </tr>\n",
       "    <tr>\n",
       "      <th>415</th>\n",
       "      <td>1307</td>\n",
       "      <td>0</td>\n",
       "    </tr>\n",
       "    <tr>\n",
       "      <th>416</th>\n",
       "      <td>1308</td>\n",
       "      <td>0</td>\n",
       "    </tr>\n",
       "    <tr>\n",
       "      <th>417</th>\n",
       "      <td>1309</td>\n",
       "      <td>1</td>\n",
       "    </tr>\n",
       "  </tbody>\n",
       "</table>\n",
       "<p>418 rows × 2 columns</p>\n",
       "</div>"
      ],
      "text/plain": [
       "     PassengerId  Survived\n",
       "0            892         0\n",
       "1            893         0\n",
       "2            894         0\n",
       "3            895         1\n",
       "4            896         0\n",
       "..           ...       ...\n",
       "413         1305         0\n",
       "414         1306         1\n",
       "415         1307         0\n",
       "416         1308         0\n",
       "417         1309         1\n",
       "\n",
       "[418 rows x 2 columns]"
      ]
     },
     "execution_count": 48,
     "metadata": {},
     "output_type": "execute_result"
    }
   ],
   "source": [
    "dd"
   ]
  },
  {
   "cell_type": "code",
   "execution_count": 49,
   "id": "f02a9781",
   "metadata": {
    "execution": {
     "iopub.execute_input": "2021-10-23T18:52:54.366435Z",
     "iopub.status.busy": "2021-10-23T18:52:54.365380Z",
     "iopub.status.idle": "2021-10-23T18:52:54.372771Z",
     "shell.execute_reply": "2021-10-23T18:52:54.373345Z",
     "shell.execute_reply.started": "2021-10-23T18:52:11.219342Z"
    },
    "papermill": {
     "duration": 0.060994,
     "end_time": "2021-10-23T18:52:54.373532",
     "exception": false,
     "start_time": "2021-10-23T18:52:54.312538",
     "status": "completed"
    },
    "tags": []
   },
   "outputs": [],
   "source": [
    "dd.to_csv('submission.csv', index = False)"
   ]
  },
  {
   "cell_type": "code",
   "execution_count": null,
   "id": "d1a59141",
   "metadata": {
    "papermill": {
     "duration": 0.049197,
     "end_time": "2021-10-23T18:52:54.474218",
     "exception": false,
     "start_time": "2021-10-23T18:52:54.425021",
     "status": "completed"
    },
    "tags": []
   },
   "outputs": [],
   "source": []
  }
 ],
 "metadata": {
  "kernelspec": {
   "display_name": "Python 3",
   "language": "python",
   "name": "python3"
  },
  "language_info": {
   "codemirror_mode": {
    "name": "ipython",
    "version": 3
   },
   "file_extension": ".py",
   "mimetype": "text/x-python",
   "name": "python",
   "nbconvert_exporter": "python",
   "pygments_lexer": "ipython3",
   "version": "3.7.10"
  },
  "papermill": {
   "default_parameters": {},
   "duration": 27.732107,
   "end_time": "2021-10-23T18:52:55.234047",
   "environment_variables": {},
   "exception": null,
   "input_path": "__notebook__.ipynb",
   "output_path": "__notebook__.ipynb",
   "parameters": {},
   "start_time": "2021-10-23T18:52:27.501940",
   "version": "2.3.3"
  }
 },
 "nbformat": 4,
 "nbformat_minor": 5
}
